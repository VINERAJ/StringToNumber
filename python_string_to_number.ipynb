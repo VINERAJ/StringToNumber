{
 "cells": [
  {
   "cell_type": "code",
   "execution_count": null,
   "id": "407208ec",
   "metadata": {},
   "outputs": [],
   "source": [
    "def numToInt(num):\n",
    "    num_dict = {\n",
    "        \"one\": 1,\n",
    "        \"two\": 2,\n",
    "        \"three\": 3,\n",
    "        \"four\": 4,\n",
    "        \"five\": 5,\n",
    "        \"six\": 6,\n",
    "        \"seven\": 7,\n",
    "        \"eight\": 8,\n",
    "        \"nine\": 9,\n",
    "        \"ten\": 10,\n",
    "        \"eleven\": 11,\n",
    "        \"twelve\": 12,\n",
    "        \"thirteen\": 13,\n",
    "        \"fourteen\": 14,\n",
    "        \"fifteen\": 15,\n",
    "        \"sixteen\": 16,\n",
    "        \"seventeen\": 17,\n",
    "        \"eighteen\": 18,\n",
    "        \"nineteen\": 19,\n",
    "        \"twenty\": 20,\n",
    "        \"thirty\": 30,\n",
    "        \"forty\": 40,\n",
    "        \"fifty\": 50,\n",
    "        \"sixty\": 60,\n",
    "        \"seventy\": 70,\n",
    "        \"eighty\": 80,\n",
    "        \"ninety\": 90,\n",
    "    }\n",
    "    \n",
    "    place_dict = {\n",
    "        \"hundred\": 100,\n",
    "        \"thousand\": 1000,\n",
    "        \"million\": 1000000,\n",
    "        \"billion\": 1000000000,\n",
    "    }\n",
    "    number = 0\n",
    "    word_list = num.split(\" \")\n",
    "    num_list = []\n",
    "    for word in word_list:\n",
    "        temp = word.split(\"-\")\n",
    "        if (word in num_dict or (len(temp)>1 and temp[0] in num_dict and temp[1] in num_dict)):\n",
    "            if (number >= 1000):\n",
    "                num_list.append(number)\n",
    "                number = 0\n",
    "            if (word in num_dict):\n",
    "                number+=num_dict[word]\n",
    "            elif(temp[0] in num_dict & temp[1] in num_dict):\n",
    "                number+=num_dict[temp[0]]\n",
    "                number+=num_dict[temp[1]]\n",
    "        elif(word in place_dict):\n",
    "            number*=place_dict[word]\n",
    "        elif(word==\"and\"):\n",
    "            continue\n",
    "        else:\n",
    "            return \"error\"\n",
    "    num_list.append(number)\n",
    "    number = sum(num_list) \n",
    "    return number"
   ]
  },
  {
   "cell_type": "code",
   "execution_count": 53,
   "id": "d8f63fdc",
   "metadata": {},
   "outputs": [
    {
     "data": {
      "text/plain": [
       "12000030"
      ]
     },
     "execution_count": 53,
     "metadata": {},
     "output_type": "execute_result"
    }
   ],
   "source": [
    "numToInt(\"twelve million and thirty\")"
   ]
  }
 ],
 "metadata": {
  "kernelspec": {
   "display_name": "Python 3",
   "language": "python",
   "name": "python3"
  },
  "language_info": {
   "codemirror_mode": {
    "name": "ipython",
    "version": 3
   },
   "file_extension": ".py",
   "mimetype": "text/x-python",
   "name": "python",
   "nbconvert_exporter": "python",
   "pygments_lexer": "ipython3",
   "version": "3.13.3"
  }
 },
 "nbformat": 4,
 "nbformat_minor": 5
}
